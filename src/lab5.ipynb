{
 "cells": [
  {
   "cell_type": "markdown",
   "metadata": {},
   "source": [
    "# Labolatorium 5 - Metryki w przestrzeni napisów"
   ]
  },
  {
   "cell_type": "code",
   "execution_count": 1,
   "metadata": {},
   "outputs": [],
   "source": [
    "import numpy as np\n",
    "from sklearn.cluster import DBSCAN\n",
    "from string import printable as alphabet\n",
    "import matplotlib.pyplot as plt\n",
    "from numba import jit\n",
    "import time"
   ]
  },
  {
   "cell_type": "code",
   "execution_count": 2,
   "metadata": {},
   "outputs": [],
   "source": [
    "start = time.time()"
   ]
  },
  {
   "cell_type": "markdown",
   "metadata": {},
   "source": [
    "Labolatorium wykonane na 500 linijkach tekstu. Wykonanie całego notebooka trwało ok. 3h. Głównym problemem był brak zastosowania macierzy rzadkiej do zapamiętywania wektorów n-gram co powoduje długi czas pracy i dużą zajętość pamięci."
   ]
  },
  {
   "cell_type": "markdown",
   "metadata": {},
   "source": [
    "## Tworzenie wektora n-gram"
   ]
  },
  {
   "cell_type": "markdown",
   "metadata": {},
   "source": [
    "Tworzenie wszystkich możliwych kombinacji z alfabetu o długości n oraz tworzenie wektora n-gram dla zadanej lini tekstu."
   ]
  },
  {
   "cell_type": "code",
   "execution_count": 3,
   "metadata": {},
   "outputs": [],
   "source": [
    "def make_vector (n, alphabet = alphabet):\n",
    "    def add_word (n_gram, list_n_gram, word, k):\n",
    "        if len(word) == n:\n",
    "            n_gram[word] = k[0]\n",
    "            list_n_gram.append(word)\n",
    "            k[0] += 1\n",
    "        else:\n",
    "            for letter in alphabet:\n",
    "                add_word (n_gram, list_n_gram, word + letter, k)\n",
    "            \n",
    "    k = [0]\n",
    "    n_gram = {}\n",
    "    list_n_gram = []\n",
    "    add_word (n_gram, list_n_gram, \"\", k)\n",
    "    return n_gram#, list_n_gram"
   ]
  },
  {
   "cell_type": "code",
   "execution_count": 4,
   "metadata": {},
   "outputs": [],
   "source": [
    "def n_gram_from_text (text, n, n_gram = None):\n",
    "    if n_gram == None:\n",
    "        n_gram = make_vector (n)\n",
    "    vec = np.zeros(len(n_gram))\n",
    "    for i in range (len(text) - n + 1):\n",
    "        g = text[i:i+n]\n",
    "        idx = n_gram.get(g, -1)\n",
    "        if idx == -1:\n",
    "            print (g, \"-> nie wczytano\")\n",
    "            continue\n",
    "        vec[idx] += 1\n",
    "    return vec"
   ]
  },
  {
   "cell_type": "markdown",
   "metadata": {},
   "source": [
    "## Metryki"
   ]
  },
  {
   "cell_type": "markdown",
   "metadata": {},
   "source": [
    "Implementacja metryk."
   ]
  },
  {
   "cell_type": "markdown",
   "metadata": {},
   "source": [
    "### LCS"
   ]
  },
  {
   "cell_type": "code",
   "execution_count": 5,
   "metadata": {},
   "outputs": [],
   "source": [
    "@jit(nopython=True)\n",
    "def LCS (x, y):\n",
    "    arr = np.zeros ((len(x), len(y)))\n",
    "    longest = np.array([0, 0])\n",
    "    for i in range (len(x)):\n",
    "        for j in range (len(y)):\n",
    "            if x[i] == y[j]:\n",
    "                if i == 0 or j == 0:\n",
    "                    arr[i, j] = 1\n",
    "                else:\n",
    "                    arr[i, j] = arr[i - 1, j - 1] + 1\n",
    "                if arr[i, j] > arr[longest[0], longest[1]]:\n",
    "                    longest[0], longest[1] = i, j\n",
    "    l = arr[longest[0], longest[1]]\n",
    "    m = max (len(x), len(y))\n",
    "    return 1 - l / m"
   ]
  },
  {
   "cell_type": "markdown",
   "metadata": {},
   "source": [
    "### Levenshteina"
   ]
  },
  {
   "cell_type": "code",
   "execution_count": 6,
   "metadata": {},
   "outputs": [],
   "source": [
    "@jit(nopython=True)\n",
    "def simple_delta (x, y):\n",
    "    if x == y:\n",
    "        return 0\n",
    "    return 1\n",
    "\n",
    "#1 <- (left), 2 <| (up), 3 <\\ (cross)\n",
    "@jit(nopython=True)\n",
    "def LVN (text1, text2, delta = simple_delta):\n",
    "    len1 = len(text1)\n",
    "    len2 = len(text2)\n",
    "    arr = np.zeros((len1+1, len2+1, 2))\n",
    "    for i in range(1, len1+1):\n",
    "        arr[i, 0, 0] = i\n",
    "        arr[i, 0, 1] = 1\n",
    "    for i in range(1, len2+1):\n",
    "        arr[0, i, 0] = i\n",
    "        arr[0, i, 1] = 2\n",
    "    for i in range (1, len1+1):\n",
    "        for j in range (1, len2+1):\n",
    "            if arr[i-1, j, 0] < arr[i, j-1, 0]:\n",
    "                step = 1\n",
    "                val = arr[i-1, j, 0] + 1\n",
    "            else:\n",
    "                step = 2\n",
    "                val = arr[i, j-1, 0] + 1\n",
    "            d = delta (text1[i-1], text2[j-1]) + arr[i-1, j-1, 0]\n",
    "            if d < val:\n",
    "                val = d\n",
    "                step = 3\n",
    "            arr[i, j, 0] = val\n",
    "            arr[i, j, 1] = step\n",
    "    return arr[-1,-1,0]"
   ]
  },
  {
   "cell_type": "markdown",
   "metadata": {},
   "source": [
    "### Cosinusowa"
   ]
  },
  {
   "cell_type": "code",
   "execution_count": 7,
   "metadata": {},
   "outputs": [],
   "source": [
    "@jit(nopython=True)\n",
    "def COSINE (v1, v2):\n",
    "    l1 = np.sqrt(np.sum(v1**2))\n",
    "    l2 = np.sqrt(np.sum(v1**2))\n",
    "    return 1 - (np.sum(v1 * v2) / (l1 * l2))"
   ]
  },
  {
   "cell_type": "markdown",
   "metadata": {},
   "source": [
    "### Euklidesowa"
   ]
  },
  {
   "cell_type": "code",
   "execution_count": 9,
   "metadata": {},
   "outputs": [],
   "source": [
    "@jit(nopython=True)\n",
    "def Euklides (v1, v2):\n",
    "    return np.sqrt(np.sum((v1 - v2)**2))    "
   ]
  },
  {
   "cell_type": "markdown",
   "metadata": {},
   "source": [
    "## Ocena jakości klasteryzacji"
   ]
  },
  {
   "cell_type": "markdown",
   "metadata": {},
   "source": [
    "Dwa indeksy oceny jakości klasteryzacji."
   ]
  },
  {
   "cell_type": "code",
   "execution_count": 10,
   "metadata": {},
   "outputs": [],
   "source": [
    "def Dann_index (clusters, matrix):\n",
    "    n = np.amax(clusters) + 1\n",
    "    max_size = np.finfo(float).eps\n",
    "    min_dis = np.inf\n",
    "    for i in range (n):\n",
    "        cluster = (clusters == i)\n",
    "        idx = np.argwhere (cluster).reshape(-1)\n",
    "        if len (idx) > max_size:\n",
    "            max_size = len(idx)\n",
    "        for j in range (i+1, n):\n",
    "            cluster = (clusters == j)\n",
    "            idx2 = np.argwhere (cluster).reshape(-1)\n",
    "            s = 0\n",
    "            for k in idx:\n",
    "                for l in idx2:\n",
    "                    s += matrix[k, l]\n",
    "            if s < min_dis:\n",
    "                min_dis = s       \n",
    "    return min_dis / max_size                 "
   ]
  },
  {
   "cell_type": "code",
   "execution_count": 11,
   "metadata": {},
   "outputs": [],
   "source": [
    "def DB_index (clusters, matrix, text, vectors, metrics = COSINE):\n",
    "    n = np.amax(clusters) + 1\n",
    "    t = 1\n",
    "    if metrics == LCS or metrics == LVN:\n",
    "        t = 0\n",
    "    centroids = []\n",
    "    avg_dis = []\n",
    "    for i in range (n):\n",
    "        cluster = (clusters == i)\n",
    "        idx = np.argwhere (cluster).reshape(-1)\n",
    "        if t == 0:\n",
    "            m = np.inf\n",
    "            c = 0\n",
    "            for k in idx:\n",
    "                s = 0\n",
    "                for l in idx:\n",
    "                    s += matrix[k, l]\n",
    "                if s < m:\n",
    "                    m = s\n",
    "                    c = k\n",
    "            centroid = text[k]\n",
    "        elif t == 1:\n",
    "            centroid = np.zeros_like(vectors[0])\n",
    "            for k in idx:\n",
    "                centroid += vectors[k]\n",
    "            centroid /= len(idx)\n",
    "        centroids.append(centroid)\n",
    "        mask = cluster.reshape(-1,1) @ cluster.reshape(-1,1).T\n",
    "        avg_dis.append(np.sum(matrix[mask]) / (2 * np.sum(cluster)))\n",
    "    s = 0\n",
    "    for i in range (n):\n",
    "        m = - np.inf\n",
    "        for j in range (n):\n",
    "            if i == j:\n",
    "                continue\n",
    "            value = avg_dis[i] + avg_dis[j]\n",
    "            dis = metrics(centroids[i], centroids[j])\n",
    "            if dis == 0:\n",
    "                dis += np.finfo(float).eps\n",
    "            value /= dis\n",
    "            if value > m:\n",
    "                m = value\n",
    "        s += m\n",
    "    return s / n"
   ]
  },
  {
   "cell_type": "markdown",
   "metadata": {},
   "source": [
    "## Stoplista"
   ]
  },
  {
   "cell_type": "markdown",
   "metadata": {},
   "source": [
    "Stoplista jako n najczęściej występujących słów w tekście."
   ]
  },
  {
   "cell_type": "code",
   "execution_count": 12,
   "metadata": {},
   "outputs": [],
   "source": [
    "def make_stopword (text, n = 100):\n",
    "    words = text.split()\n",
    "    count = {}\n",
    "    for word in words:\n",
    "        count[word] = count.get(word, 0) + 1\n",
    "    count = list(count.items())\n",
    "    count.sort(key=lambda x : x[1], reverse=True)\n",
    "    #print (list(enumerate(count)))\n",
    "    stopword = [w for w, _ in count[:n]]\n",
    "    return stopword"
   ]
  },
  {
   "cell_type": "markdown",
   "metadata": {},
   "source": [
    "## Wczytanie i przygotowanie tekstu z pliku"
   ]
  },
  {
   "cell_type": "markdown",
   "metadata": {},
   "source": [
    "Przygotowanie tekstu poprzez odczyt z pliku, obcięcie 500 lini, obliczenie wektorów n-gram."
   ]
  },
  {
   "cell_type": "code",
   "execution_count": 13,
   "metadata": {},
   "outputs": [],
   "source": [
    "def prepare_text (filepath = \"lines.txt\", n = 3, with_stopword=True, size = 100):\n",
    "    f = open (filepath, \"r\")\n",
    "    text = f.read()\n",
    "    f.close()\n",
    "    stopword = make_stopword (text, n = size)\n",
    "    text = text.split(\"\\n\")[:500]\n",
    "    vectors = []\n",
    "    gram = make_vector (n)\n",
    "    lines = []\n",
    "    for line in text:\n",
    "        if with_stopword:\n",
    "            new_line = \"\"\n",
    "            words = line.split()\n",
    "            for word in words:\n",
    "                if word not in stopword:\n",
    "                    new_line += (word + \" \")\n",
    "        else:\n",
    "            new_line = line\n",
    "        lines.append(new_line)\n",
    "        vectors.append(n_gram_from_text(new_line, n, gram))\n",
    "    vectors = np.array(vectors)\n",
    "    return text, lines, vectors"
   ]
  },
  {
   "cell_type": "markdown",
   "metadata": {},
   "source": [
    "## Klasteryzacje"
   ]
  },
  {
   "cell_type": "markdown",
   "metadata": {},
   "source": [
    "Obliczanie macierzy odległości za pomocą zadanej metryki. Dwie następne wersje stworzone z powodu potrzeby użycia modułu Numba. Dwa sposoby klasteryzacji, jeden to DBSCAN z modułu sklearn, a drugi to prosta heurystyka podana na zajęciach."
   ]
  },
  {
   "cell_type": "code",
   "execution_count": 15,
   "metadata": {},
   "outputs": [],
   "source": [
    "def make_matrix_of_distance (text, vectors, metrics = COSINE, t = 1):\n",
    "    size = len(text)\n",
    "    matrix = np.zeros(shape=(size,size), dtype=np.float64)\n",
    "    for i in range (size):\n",
    "        for j in range (i+1):\n",
    "            if t == 0:\n",
    "                value = metrics(text[i], text[j])\n",
    "            elif t == 1:\n",
    "                value = metrics(vectors[i], vectors[j])\n",
    "            matrix[i, j] = matrix[j, i] = value\n",
    "    v = np.amax(matrix)\n",
    "    if v > 1:\n",
    "        matrix = matrix / v\n",
    "    return matrix"
   ]
  },
  {
   "cell_type": "code",
   "execution_count": 16,
   "metadata": {},
   "outputs": [],
   "source": [
    "@jit(nopython=True)\n",
    "def make_matrix_of_distance0 (text, vectors, metrics = LVN):\n",
    "    size = len(text)\n",
    "    matrix = np.zeros(shape=(size,size), dtype=np.float64)\n",
    "    for i in range (size):\n",
    "        for j in range (i+1):\n",
    "            value = metrics(text[i], text[j])\n",
    "            matrix[i, j] = matrix[j, i] = value\n",
    "    v = np.amax(matrix)\n",
    "    if v > 1:\n",
    "        matrix = matrix / v\n",
    "    return matrix"
   ]
  },
  {
   "cell_type": "code",
   "execution_count": 17,
   "metadata": {},
   "outputs": [],
   "source": [
    "@jit(nopython=True)\n",
    "def make_matrix_of_distance1 (text, vectors, metrics = COSINE):\n",
    "    size = len(text)\n",
    "    matrix = np.zeros(shape=(size,size), dtype=np.float64)\n",
    "    for i in range (size):\n",
    "        for j in range (i+1):\n",
    "            value = metrics(vectors[i], vectors[j])\n",
    "            matrix[i, j] = matrix[j, i] = value\n",
    "    v = np.amax(matrix)\n",
    "    if v > 1:\n",
    "        matrix = matrix / v\n",
    "    return matrix"
   ]
  },
  {
   "cell_type": "code",
   "execution_count": 18,
   "metadata": {},
   "outputs": [],
   "source": [
    "def DBSCAN_cluster (matrix, eps = 0.3, min_samples = 1):\n",
    "    return DBSCAN(eps=eps, min_samples=min_samples).fit_predict(matrix)"
   ]
  },
  {
   "cell_type": "code",
   "execution_count": 19,
   "metadata": {},
   "outputs": [],
   "source": [
    "@jit(nopython=True)\n",
    "def easy_clustering (matrix, eps = 0.3):\n",
    "    result = np.array([-1] * len(matrix))\n",
    "    cluster = 0\n",
    "    for i in range (len(matrix)):\n",
    "        if result[i] != -1:\n",
    "            continue\n",
    "        result[i] = cluster\n",
    "        for j in range (i+1, len(matrix)):\n",
    "            if result[j] == -1 and matrix[i, j] <= eps:\n",
    "                result[j] = cluster\n",
    "        cluster +=1\n",
    "    return result"
   ]
  },
  {
   "cell_type": "markdown",
   "metadata": {},
   "source": [
    "## Testy"
   ]
  },
  {
   "cell_type": "markdown",
   "metadata": {},
   "source": [
    "Testy dla poszczególnych metryk."
   ]
  },
  {
   "cell_type": "code",
   "execution_count": 20,
   "metadata": {},
   "outputs": [],
   "source": [
    "n = 3\n",
    "n_gram_vector = make_vector (n=n)\n",
    "text, lines, vectors = prepare_text (n=n, size = 50)\n",
    "lines = np.array(lines)\n",
    "_, lines_f, vectors_f = prepare_text (n=n, with_stopword=False)\n",
    "lines_f = np.array(lines_f)\n",
    "dann_to_plot_easy = {}\n",
    "dann_to_plot_dbscan = {}\n",
    "db_to_plot_easy = {}\n",
    "db_to_plot_dbscan = {}"
   ]
  },
  {
   "cell_type": "markdown",
   "metadata": {},
   "source": [
    "### Cosinusowa"
   ]
  },
  {
   "cell_type": "code",
   "execution_count": 21,
   "metadata": {},
   "outputs": [
    {
     "name": "stdout",
     "output_type": "stream",
     "text": [
      "Test ze stoplistą\n",
      "Proste klastrowanie\n",
      "Jakość klasteryzacji: Dann -> 0.023139462163852414 Davies-Bouldin -> 2.7249610082635343\n",
      "DBSCAN\n",
      "Jakość klasteryzacji: Dann -> -0.14583333333333334 Davies-Bouldin -> 696612471364.6628\n",
      "Test bez stoplisty\n",
      "Proste klastrowanie\n",
      "Jakość klasteryzacji: Dann -> 0.022527472527472527 Davies-Bouldin -> 2.8433710469671536\n",
      "DBSCAN\n",
      "Jakość klasteryzacji: Dann -> -0.16666666666666663 Davies-Bouldin -> 618966413877.63\n"
     ]
    }
   ],
   "source": [
    "metrics = COSINE\n",
    "t = 1\n",
    "id1 = \"cos - stoplista\"\n",
    "id2 = \"cos - bez stoplisty\"\n",
    "eps = 0.3\n",
    "\n",
    "print (\"Test ze stoplistą\")\n",
    "matrix = make_matrix_of_distance1 (lines, vectors, metrics)\n",
    "print (\"Proste klastrowanie\")\n",
    "clusters = easy_clustering (matrix, eps=eps)\n",
    "dann = Dann_index (clusters, matrix)\n",
    "db = DB_index (clusters, matrix, lines, vectors, metrics)\n",
    "dann_to_plot_easy[id1] = dann\n",
    "db_to_plot_easy[id1] = db\n",
    "print (\"Jakość klasteryzacji: Dann ->\", dann, \"Davies-Bouldin ->\", db)\n",
    "print (\"DBSCAN\")\n",
    "clusters = DBSCAN_cluster (matrix, eps=eps)\n",
    "dann = Dann_index (clusters, matrix)\n",
    "db = DB_index (clusters, matrix, lines, vectors, metrics)\n",
    "dann_to_plot_dbscan[id1] = dann\n",
    "db_to_plot_dbscan[id1] = db\n",
    "print (\"Jakość klasteryzacji: Dann ->\", dann, \"Davies-Bouldin ->\", db)\n",
    "\n",
    "print (\"Test bez stoplisty\")\n",
    "matrix = make_matrix_of_distance1 (lines_f, vectors_f, metrics)\n",
    "print (\"Proste klastrowanie\")\n",
    "clusters = easy_clustering (matrix, eps=eps)\n",
    "dann = Dann_index (clusters, matrix)\n",
    "db = DB_index (clusters, matrix, lines_f, vectors_f, metrics)\n",
    "dann_to_plot_easy[id2] = dann\n",
    "db_to_plot_easy[id2] = db\n",
    "print (\"Jakość klasteryzacji: Dann ->\", dann, \"Davies-Bouldin ->\", db)\n",
    "print (\"DBSCAN\")\n",
    "clusters = DBSCAN_cluster (matrix, eps=eps)\n",
    "dann = Dann_index (clusters, matrix)\n",
    "db = DB_index (clusters, matrix, lines_f, vectors_f, metrics)\n",
    "dann_to_plot_dbscan[id2] = dann\n",
    "db_to_plot_dbscan[id2] = db\n",
    "print (\"Jakość klasteryzacji: Dann ->\", dann, \"Davies-Bouldin ->\", db)"
   ]
  },
  {
   "cell_type": "markdown",
   "metadata": {},
   "source": [
    "### Euklidesowa"
   ]
  },
  {
   "cell_type": "code",
   "execution_count": 22,
   "metadata": {},
   "outputs": [
    {
     "name": "stdout",
     "output_type": "stream",
     "text": [
      "Test ze stoplistą\n",
      "Proste klastrowanie\n",
      "Jakość klasteryzacji: Dann -> 0.027711672807159828 Davies-Bouldin -> 0.13649903097498978\n",
      "DBSCAN\n",
      "Jakość klasteryzacji: Dann -> 0.023518021709589932 Davies-Bouldin -> 0.03219845800546903\n",
      "Test bez stoplisty\n",
      "Proste klastrowanie\n",
      "Jakość klasteryzacji: Dann -> 0.01258587694437869 Davies-Bouldin -> 0.2631673483414057\n",
      "DBSCAN\n",
      "Jakość klasteryzacji: Dann -> 0.013951602128303117 Davies-Bouldin -> 0.06045659458682271\n"
     ]
    }
   ],
   "source": [
    "metrics = Euklides\n",
    "t = 1\n",
    "id1 = \"Euklides - stoplista\"\n",
    "id2 = \"Euklides - bez stoplisty\"\n",
    "eps = 0.3\n",
    "\n",
    "print (\"Test ze stoplistą\")\n",
    "matrix = make_matrix_of_distance1 (lines, vectors, metrics)\n",
    "print (\"Proste klastrowanie\")\n",
    "clusters = easy_clustering (matrix, eps=eps)\n",
    "dann = Dann_index (clusters, matrix)\n",
    "db = DB_index (clusters, matrix, lines, vectors, metrics)\n",
    "dann_to_plot_easy[id1] = dann\n",
    "db_to_plot_easy[id1] = db\n",
    "print (\"Jakość klasteryzacji: Dann ->\", dann, \"Davies-Bouldin ->\", db)\n",
    "print (\"DBSCAN\")\n",
    "clusters = DBSCAN_cluster (matrix, eps=eps)\n",
    "dann = Dann_index (clusters, matrix)\n",
    "db = DB_index (clusters, matrix, lines, vectors, metrics)\n",
    "dann_to_plot_dbscan[id1] = dann\n",
    "db_to_plot_dbscan[id1] = db\n",
    "print (\"Jakość klasteryzacji: Dann ->\", dann, \"Davies-Bouldin ->\", db)\n",
    "\n",
    "print (\"Test bez stoplisty\")\n",
    "matrix = make_matrix_of_distance1 (lines_f, vectors_f, metrics)\n",
    "print (\"Proste klastrowanie\")\n",
    "clusters = easy_clustering (matrix, eps=eps)\n",
    "dann = Dann_index (clusters, matrix)\n",
    "db = DB_index (clusters, matrix, lines_f, vectors_f, metrics)\n",
    "dann_to_plot_easy[id2] = dann\n",
    "db_to_plot_easy[id2] = db\n",
    "print (\"Jakość klasteryzacji: Dann ->\", dann, \"Davies-Bouldin ->\", db)\n",
    "print (\"DBSCAN\")\n",
    "clusters = DBSCAN_cluster (matrix, eps=eps)\n",
    "dann = Dann_index (clusters, matrix)\n",
    "db = DB_index (clusters, matrix, lines_f, vectors_f, metrics)\n",
    "dann_to_plot_dbscan[id2] = dann\n",
    "db_to_plot_dbscan[id2] = db\n",
    "print (\"Jakość klasteryzacji: Dann ->\", dann, \"Davies-Bouldin ->\", db)"
   ]
  },
  {
   "cell_type": "markdown",
   "metadata": {},
   "source": [
    "### LCS"
   ]
  },
  {
   "cell_type": "code",
   "execution_count": 23,
   "metadata": {},
   "outputs": [
    {
     "name": "stdout",
     "output_type": "stream",
     "text": [
      "Test ze stoplistą\n",
      "Proste klastrowanie\n",
      "Jakość klasteryzacji: Dann -> 0.06000000000000001 Davies-Bouldin -> 0.5118832624190558\n",
      "DBSCAN\n",
      "Jakość klasteryzacji: Dann -> 0.05649717514124294 Davies-Bouldin -> 0.16700083469809948\n",
      "Test bez stoplisty\n",
      "Proste klastrowanie\n",
      "Jakość klasteryzacji: Dann -> 0.07608695652173914 Davies-Bouldin -> 0.3890198023659702\n",
      "DBSCAN\n",
      "Jakość klasteryzacji: Dann -> 0.04854368932038836 Davies-Bouldin -> 0.11473980759549723\n"
     ]
    }
   ],
   "source": [
    "metrics = LCS\n",
    "t = 0\n",
    "id1 = \"LCS - stoplista\"\n",
    "id2 = \"LCS - bez stoplisty\"\n",
    "eps = 0.3\n",
    "\n",
    "print (\"Test ze stoplistą\")\n",
    "matrix = make_matrix_of_distance0 (lines, vectors, metrics)\n",
    "print (\"Proste klastrowanie\")\n",
    "clusters = easy_clustering (matrix, eps=eps)\n",
    "dann = Dann_index (clusters, matrix)\n",
    "db = DB_index (clusters, matrix, lines, vectors, metrics)\n",
    "dann_to_plot_easy[id1] = dann\n",
    "db_to_plot_easy[id1] = db\n",
    "print (\"Jakość klasteryzacji: Dann ->\", dann, \"Davies-Bouldin ->\", db)\n",
    "print (\"DBSCAN\")\n",
    "clusters = DBSCAN_cluster (matrix, eps=eps)\n",
    "dann = Dann_index (clusters, matrix)\n",
    "db = DB_index (clusters, matrix, lines, vectors, metrics)\n",
    "dann_to_plot_dbscan[id1] = dann\n",
    "db_to_plot_dbscan[id1] = db\n",
    "print (\"Jakość klasteryzacji: Dann ->\", dann, \"Davies-Bouldin ->\", db)\n",
    "\n",
    "print (\"Test bez stoplisty\")\n",
    "matrix = make_matrix_of_distance0 (lines_f, vectors_f, metrics)\n",
    "print (\"Proste klastrowanie\")\n",
    "clusters = easy_clustering (matrix, eps=eps)\n",
    "dann = Dann_index (clusters, matrix)\n",
    "db = DB_index (clusters, matrix, lines_f, vectors_f, metrics)\n",
    "dann_to_plot_easy[id2] = dann\n",
    "db_to_plot_easy[id2] = db\n",
    "print (\"Jakość klasteryzacji: Dann ->\", dann, \"Davies-Bouldin ->\", db)\n",
    "print (\"DBSCAN\")\n",
    "clusters = DBSCAN_cluster (matrix, eps=eps)\n",
    "dann = Dann_index (clusters, matrix)\n",
    "db = DB_index (clusters, matrix, lines_f, vectors_f, metrics)\n",
    "dann_to_plot_dbscan[id2] = dann\n",
    "db_to_plot_dbscan[id2] = db\n",
    "print (\"Jakość klasteryzacji: Dann ->\", dann, \"Davies-Bouldin ->\", db)"
   ]
  },
  {
   "cell_type": "markdown",
   "metadata": {},
   "source": [
    "### Levenshteina"
   ]
  },
  {
   "cell_type": "code",
   "execution_count": 24,
   "metadata": {},
   "outputs": [
    {
     "name": "stdout",
     "output_type": "stream",
     "text": [
      "Test ze stoplistą\n",
      "Proste klastrowanie\n",
      "Jakość klasteryzacji: Dann -> 0.004798818752307124 Davies-Bouldin -> 0.10362696191741597\n",
      "DBSCAN\n",
      "Jakość klasteryzacji: Dann -> 0.002325581395348837 Davies-Bouldin -> 0.003349037801685826\n",
      "Test bez stoplisty\n",
      "Proste klastrowanie\n",
      "Jakość klasteryzacji: Dann -> 0.0050387596899224806 Davies-Bouldin -> 0.08275787494965436\n",
      "DBSCAN\n",
      "Jakość klasteryzacji: Dann -> 0.002325581395348837 Davies-Bouldin -> 0.002805861515504201\n"
     ]
    }
   ],
   "source": [
    "metrics = LVN\n",
    "t = 0\n",
    "id1 = \"LVN - stoplista\"\n",
    "id2 = \"LVN - bez stoplisty\"\n",
    "eps = 0.3\n",
    "\n",
    "print (\"Test ze stoplistą\")\n",
    "matrix = make_matrix_of_distance0 (lines, vectors, metrics)\n",
    "print (\"Proste klastrowanie\")\n",
    "clusters = easy_clustering (matrix, eps=eps)\n",
    "dann = Dann_index (clusters, matrix)\n",
    "db = DB_index (clusters, matrix, lines, vectors, metrics)\n",
    "dann_to_plot_easy[id1] = dann\n",
    "db_to_plot_easy[id1] = db\n",
    "print (\"Jakość klasteryzacji: Dann ->\", dann, \"Davies-Bouldin ->\", db)\n",
    "print (\"DBSCAN\")\n",
    "clusters = DBSCAN_cluster (matrix, eps=eps)\n",
    "dann = Dann_index (clusters, matrix)\n",
    "db = DB_index (clusters, matrix, lines, vectors, metrics)\n",
    "dann_to_plot_dbscan[id1] = dann\n",
    "db_to_plot_dbscan[id1] = db\n",
    "print (\"Jakość klasteryzacji: Dann ->\", dann, \"Davies-Bouldin ->\", db)\n",
    "\n",
    "print (\"Test bez stoplisty\")\n",
    "matrix = make_matrix_of_distance0 (lines_f, vectors_f, metrics)\n",
    "print (\"Proste klastrowanie\")\n",
    "clusters = easy_clustering (matrix, eps=eps)\n",
    "dann = Dann_index (clusters, matrix)\n",
    "db = DB_index (clusters, matrix, lines_f, vectors_f, metrics)\n",
    "dann_to_plot_easy[id2] = dann\n",
    "db_to_plot_easy[id2] = db\n",
    "print (\"Jakość klasteryzacji: Dann ->\", dann, \"Davies-Bouldin ->\", db)\n",
    "print (\"DBSCAN\")\n",
    "clusters = DBSCAN_cluster (matrix, eps=eps)\n",
    "dann = Dann_index (clusters, matrix)\n",
    "db = DB_index (clusters, matrix, lines_f, vectors_f, metrics)\n",
    "dann_to_plot_dbscan[id2] = dann\n",
    "db_to_plot_dbscan[id2] = db\n",
    "print (\"Jakość klasteryzacji: Dann ->\", dann, \"Davies-Bouldin ->\", db)"
   ]
  },
  {
   "cell_type": "markdown",
   "metadata": {},
   "source": [
    "## Wykresy"
   ]
  },
  {
   "cell_type": "markdown",
   "metadata": {},
   "source": [
    "Wykresy ocen jakości klasteryzacji dla kolejnych metryk."
   ]
  },
  {
   "cell_type": "markdown",
   "metadata": {},
   "source": [
    "### Proste klastrowanie - Dann index"
   ]
  },
  {
   "cell_type": "code",
   "execution_count": 25,
   "metadata": {},
   "outputs": [
    {
     "data": {
      "image/png": "[encoded data removed]",
      "text/plain": [
       "<Figure size 1080x1080 with 1 Axes>"
      ]
     },
     "metadata": {
      "needs_background": "light"
     },
     "output_type": "display_data"
    }
   ],
   "source": [
    "items = list(dann_to_plot_easy.items())\n",
    "X = [v[0] for v in items]\n",
    "Y = [v[1] for v in items]\n",
    "plt.figure(figsize=(15,15))\n",
    "plt.plot(X, Y)\n",
    "plt.show()"
   ]
  },
  {
   "cell_type": "markdown",
   "metadata": {},
   "source": [
    "### Proste klastrowanie - Davies-Bouldin index"
   ]
  },
  {
   "cell_type": "code",
   "execution_count": 26,
   "metadata": {},
   "outputs": [
    {
     "data": {
      "image/png": "[encoded data removed]",
      "text/plain": [
       "<Figure size 1080x1080 with 1 Axes>"
      ]
     },
     "metadata": {
      "needs_background": "light"
     },
     "output_type": "display_data"
    }
   ],
   "source": [
    "items = list(db_to_plot_easy.items())\n",
    "X = [v[0] for v in items]\n",
    "Y = [v[1] for v in items]\n",
    "plt.figure(figsize=(15,15))\n",
    "plt.plot(X, Y)\n",
    "plt.show()"
   ]
  },
  {
   "cell_type": "markdown",
   "metadata": {},
   "source": [
    "### DBSCAN - Dann index"
   ]
  },
  {
   "cell_type": "code",
   "execution_count": 27,
   "metadata": {},
   "outputs": [
    {
     "data": {
      "image/png": "[encoded data removed]",
      "text/plain": [
       "<Figure size 1080x1080 with 1 Axes>"
      ]
     },
     "metadata": {
      "needs_background": "light"
     },
     "output_type": "display_data"
    }
   ],
   "source": [
    "items = list(dann_to_plot_dbscan.items())\n",
    "X = [v[0] for v in items]\n",
    "Y = [v[1] for v in items]\n",
    "plt.figure(figsize=(15,15))\n",
    "plt.plot(X, Y)\n",
    "plt.show()"
   ]
  },
  {
   "cell_type": "markdown",
   "metadata": {},
   "source": [
    "### DBSCAN - Davies-Bouldin index"
   ]
  },
  {
   "cell_type": "code",
   "execution_count": 28,
   "metadata": {},
   "outputs": [
    {
     "data": {
      "image/png": "[encoded data removed]",
      "text/plain": [
       "<Figure size 1080x1080 with 1 Axes>"
      ]
     },
     "metadata": {
      "needs_background": "light"
     },
     "output_type": "display_data"
    }
   ],
   "source": [
    "items = list(db_to_plot_dbscan.items())\n",
    "X = [v[0] for v in items]\n",
    "Y = [v[1] for v in items]\n",
    "plt.figure(figsize=(15,15))\n",
    "plt.plot(X, Y)\n",
    "plt.show()"
   ]
  },
  {
   "cell_type": "markdown",
   "metadata": {},
   "source": [
    "Możemy zauważyć, że dla indeksu Danna najlepiej sprawdza się LCS, natomiast dla indeksu Davies-Bouldina najlepiej sprawdza się norma cosinusowa."
   ]
  },
  {
   "cell_type": "code",
   "execution_count": 29,
   "metadata": {},
   "outputs": [
    {
     "name": "stdout",
     "output_type": "stream",
     "text": [
      "11426.081881523132\n"
     ]
    }
   ],
   "source": [
    "end = time.time()\n",
    "print (end - start)"
   ]
  }
 ],
 "metadata": {
  "kernelspec": {
   "display_name": "Python 3",
   "language": "python",
   "name": "python3"
  },
  "language_info": {
   "codemirror_mode": {
    "name": "ipython",
    "version": 3
   },
   "file_extension": ".py",
   "mimetype": "text/x-python",
   "name": "python",
   "nbconvert_exporter": "python",
   "pygments_lexer": "ipython3",
   "version": "3.8.5"
  }
 },
 "nbformat": 4,
 "nbformat_minor": 4
}
